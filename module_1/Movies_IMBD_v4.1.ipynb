{
 "cells": [
  {
   "cell_type": "code",
   "execution_count": 2,
   "metadata": {
    "_cell_guid": "b1076dfc-b9ad-4769-8c92-a6c4dae69d19",
    "_uuid": "8f2839f25d086af736a60e9eeb907d3b93b6e0e5",
    "colab": {},
    "colab_type": "code",
    "id": "U2D2gTdJVp90"
   },
   "outputs": [],
   "source": [
    "import numpy as np\n",
    "import pandas as pd\n",
    "import seaborn as sns\n",
    "import matplotlib.pyplot as plt\n",
    "from collections import Counter\n",
    "from itertools import combinations"
   ]
  },
  {
   "cell_type": "code",
   "execution_count": 3,
   "metadata": {
    "_cell_guid": "79c7e3d0-c299-4dcb-8224-4455121ee9b0",
    "_uuid": "d629ff2d2480ee46fbb7e2d37f6b5fab8052498a",
    "colab": {},
    "colab_type": "code",
    "id": "oyGfxL3eVp9-"
   },
   "outputs": [
    {
     "data": {
      "text/html": [
       "<div>\n",
       "<style scoped>\n",
       "    .dataframe tbody tr th:only-of-type {\n",
       "        vertical-align: middle;\n",
       "    }\n",
       "\n",
       "    .dataframe tbody tr th {\n",
       "        vertical-align: top;\n",
       "    }\n",
       "\n",
       "    .dataframe thead th {\n",
       "        text-align: right;\n",
       "    }\n",
       "</style>\n",
       "<table border=\"1\" class=\"dataframe\">\n",
       "  <thead>\n",
       "    <tr style=\"text-align: right;\">\n",
       "      <th></th>\n",
       "      <th>imdb_id</th>\n",
       "      <th>budget</th>\n",
       "      <th>revenue</th>\n",
       "      <th>original_title</th>\n",
       "      <th>cast</th>\n",
       "      <th>director</th>\n",
       "      <th>tagline</th>\n",
       "      <th>overview</th>\n",
       "      <th>runtime</th>\n",
       "      <th>genres</th>\n",
       "      <th>production_companies</th>\n",
       "      <th>release_date</th>\n",
       "      <th>vote_average</th>\n",
       "      <th>release_year</th>\n",
       "    </tr>\n",
       "  </thead>\n",
       "  <tbody>\n",
       "    <tr>\n",
       "      <th>973</th>\n",
       "      <td>tt1853728</td>\n",
       "      <td>100000000</td>\n",
       "      <td>425368238</td>\n",
       "      <td>Django Unchained</td>\n",
       "      <td>Jamie Foxx|Christoph Waltz|Leonardo DiCaprio|K...</td>\n",
       "      <td>Quentin Tarantino</td>\n",
       "      <td>Life, liberty and the pursuit of vengeance.</td>\n",
       "      <td>With the help of a German bounty hunter, a fre...</td>\n",
       "      <td>165</td>\n",
       "      <td>Drama|Western</td>\n",
       "      <td>Columbia Pictures|The Weinstein Company</td>\n",
       "      <td>12/25/2012</td>\n",
       "      <td>7.7</td>\n",
       "      <td>2012</td>\n",
       "    </tr>\n",
       "    <tr>\n",
       "      <th>591</th>\n",
       "      <td>tt0250310</td>\n",
       "      <td>11000000</td>\n",
       "      <td>23978402</td>\n",
       "      <td>Corky Romano</td>\n",
       "      <td>Chris Kattan|Vinessa Shaw|Peter Falk|Peter Ber...</td>\n",
       "      <td>Rob Pritts</td>\n",
       "      <td>Undercover and Out The Way!</td>\n",
       "      <td>Corky Romano is a bumbling, simpleton, veterin...</td>\n",
       "      <td>86</td>\n",
       "      <td>Action|Comedy|Crime</td>\n",
       "      <td>Robert Simonds Productions|Touchstone Pictures</td>\n",
       "      <td>10/12/2001</td>\n",
       "      <td>4.4</td>\n",
       "      <td>2001</td>\n",
       "    </tr>\n",
       "    <tr>\n",
       "      <th>1175</th>\n",
       "      <td>tt0339034</td>\n",
       "      <td>12000000</td>\n",
       "      <td>4922166</td>\n",
       "      <td>From Justin to Kelly</td>\n",
       "      <td>Kelly Clarkson|Justin Guarini |Brandon Hensche...</td>\n",
       "      <td>Robert Iscove</td>\n",
       "      <td>The tale of two American Idols.</td>\n",
       "      <td>A lonely, sexually repressed man. A depressed ...</td>\n",
       "      <td>90</td>\n",
       "      <td>Comedy|Romance</td>\n",
       "      <td>20th Century Fox</td>\n",
       "      <td>6/20/2003</td>\n",
       "      <td>3.5</td>\n",
       "      <td>2003</td>\n",
       "    </tr>\n",
       "    <tr>\n",
       "      <th>813</th>\n",
       "      <td>tt1615918</td>\n",
       "      <td>75000000</td>\n",
       "      <td>342695435</td>\n",
       "      <td>Alvin and the Chipmunks: Chipwrecked</td>\n",
       "      <td>Jason Lee|David Cross|Jenny Slate|Andy Buckley...</td>\n",
       "      <td>Mike Mitchell</td>\n",
       "      <td>This holiday it's gonna get squeaky.</td>\n",
       "      <td>Playing around while aboard a cruise ship, the...</td>\n",
       "      <td>87</td>\n",
       "      <td>Comedy|Fantasy|Family|Music|Animation</td>\n",
       "      <td>Fox 2000 Pictures</td>\n",
       "      <td>12/14/2011</td>\n",
       "      <td>5.5</td>\n",
       "      <td>2011</td>\n",
       "    </tr>\n",
       "    <tr>\n",
       "      <th>31</th>\n",
       "      <td>tt2848292</td>\n",
       "      <td>29000000</td>\n",
       "      <td>287506194</td>\n",
       "      <td>Pitch Perfect 2</td>\n",
       "      <td>Anna Kendrick|Rebel Wilson|Hailee Steinfeld|Br...</td>\n",
       "      <td>Elizabeth Banks</td>\n",
       "      <td>We're back pitches</td>\n",
       "      <td>The Bellas are back, and they are better than ...</td>\n",
       "      <td>115</td>\n",
       "      <td>Comedy|Music</td>\n",
       "      <td>Universal Pictures|Gold Circle Films|Brownston...</td>\n",
       "      <td>5/7/2015</td>\n",
       "      <td>6.8</td>\n",
       "      <td>2015</td>\n",
       "    </tr>\n",
       "  </tbody>\n",
       "</table>\n",
       "</div>"
      ],
      "text/plain": [
       "        imdb_id     budget    revenue                        original_title  \\\n",
       "973   tt1853728  100000000  425368238                      Django Unchained   \n",
       "591   tt0250310   11000000   23978402                          Corky Romano   \n",
       "1175  tt0339034   12000000    4922166                  From Justin to Kelly   \n",
       "813   tt1615918   75000000  342695435  Alvin and the Chipmunks: Chipwrecked   \n",
       "31    tt2848292   29000000  287506194                       Pitch Perfect 2   \n",
       "\n",
       "                                                   cast           director  \\\n",
       "973   Jamie Foxx|Christoph Waltz|Leonardo DiCaprio|K...  Quentin Tarantino   \n",
       "591   Chris Kattan|Vinessa Shaw|Peter Falk|Peter Ber...         Rob Pritts   \n",
       "1175  Kelly Clarkson|Justin Guarini |Brandon Hensche...      Robert Iscove   \n",
       "813   Jason Lee|David Cross|Jenny Slate|Andy Buckley...      Mike Mitchell   \n",
       "31    Anna Kendrick|Rebel Wilson|Hailee Steinfeld|Br...    Elizabeth Banks   \n",
       "\n",
       "                                          tagline  \\\n",
       "973   Life, liberty and the pursuit of vengeance.   \n",
       "591                   Undercover and Out The Way!   \n",
       "1175              The tale of two American Idols.   \n",
       "813          This holiday it's gonna get squeaky.   \n",
       "31                             We're back pitches   \n",
       "\n",
       "                                               overview  runtime  \\\n",
       "973   With the help of a German bounty hunter, a fre...      165   \n",
       "591   Corky Romano is a bumbling, simpleton, veterin...       86   \n",
       "1175  A lonely, sexually repressed man. A depressed ...       90   \n",
       "813   Playing around while aboard a cruise ship, the...       87   \n",
       "31    The Bellas are back, and they are better than ...      115   \n",
       "\n",
       "                                     genres  \\\n",
       "973                           Drama|Western   \n",
       "591                     Action|Comedy|Crime   \n",
       "1175                         Comedy|Romance   \n",
       "813   Comedy|Fantasy|Family|Music|Animation   \n",
       "31                             Comedy|Music   \n",
       "\n",
       "                                   production_companies release_date  \\\n",
       "973             Columbia Pictures|The Weinstein Company   12/25/2012   \n",
       "591      Robert Simonds Productions|Touchstone Pictures   10/12/2001   \n",
       "1175                                   20th Century Fox    6/20/2003   \n",
       "813                                   Fox 2000 Pictures   12/14/2011   \n",
       "31    Universal Pictures|Gold Circle Films|Brownston...     5/7/2015   \n",
       "\n",
       "      vote_average  release_year  \n",
       "973            7.7          2012  \n",
       "591            4.4          2001  \n",
       "1175           3.5          2003  \n",
       "813            5.5          2011  \n",
       "31             6.8          2015  "
      ]
     },
     "execution_count": 3,
     "metadata": {},
     "output_type": "execute_result"
    }
   ],
   "source": [
    "data = pd.read_csv('movie_bd_v5.csv')\n",
    "data.sample(5)"
   ]
  },
  {
   "cell_type": "code",
   "execution_count": 4,
   "metadata": {
    "colab": {},
    "colab_type": "code",
    "id": "CoYUnagMVp-C"
   },
   "outputs": [
    {
     "data": {
      "text/html": [
       "<div>\n",
       "<style scoped>\n",
       "    .dataframe tbody tr th:only-of-type {\n",
       "        vertical-align: middle;\n",
       "    }\n",
       "\n",
       "    .dataframe tbody tr th {\n",
       "        vertical-align: top;\n",
       "    }\n",
       "\n",
       "    .dataframe thead th {\n",
       "        text-align: right;\n",
       "    }\n",
       "</style>\n",
       "<table border=\"1\" class=\"dataframe\">\n",
       "  <thead>\n",
       "    <tr style=\"text-align: right;\">\n",
       "      <th></th>\n",
       "      <th>budget</th>\n",
       "      <th>revenue</th>\n",
       "      <th>runtime</th>\n",
       "      <th>vote_average</th>\n",
       "      <th>release_year</th>\n",
       "    </tr>\n",
       "  </thead>\n",
       "  <tbody>\n",
       "    <tr>\n",
       "      <th>count</th>\n",
       "      <td>1.889000e+03</td>\n",
       "      <td>1.889000e+03</td>\n",
       "      <td>1889.000000</td>\n",
       "      <td>1889.000000</td>\n",
       "      <td>1889.000000</td>\n",
       "    </tr>\n",
       "    <tr>\n",
       "      <th>mean</th>\n",
       "      <td>5.431083e+07</td>\n",
       "      <td>1.553653e+08</td>\n",
       "      <td>109.658549</td>\n",
       "      <td>6.140762</td>\n",
       "      <td>2007.860773</td>\n",
       "    </tr>\n",
       "    <tr>\n",
       "      <th>std</th>\n",
       "      <td>4.858721e+07</td>\n",
       "      <td>2.146698e+08</td>\n",
       "      <td>18.017041</td>\n",
       "      <td>0.764763</td>\n",
       "      <td>4.468841</td>\n",
       "    </tr>\n",
       "    <tr>\n",
       "      <th>min</th>\n",
       "      <td>5.000000e+06</td>\n",
       "      <td>2.033165e+06</td>\n",
       "      <td>63.000000</td>\n",
       "      <td>3.300000</td>\n",
       "      <td>2000.000000</td>\n",
       "    </tr>\n",
       "    <tr>\n",
       "      <th>25%</th>\n",
       "      <td>2.000000e+07</td>\n",
       "      <td>3.456058e+07</td>\n",
       "      <td>97.000000</td>\n",
       "      <td>5.600000</td>\n",
       "      <td>2004.000000</td>\n",
       "    </tr>\n",
       "    <tr>\n",
       "      <th>50%</th>\n",
       "      <td>3.800000e+07</td>\n",
       "      <td>8.361541e+07</td>\n",
       "      <td>107.000000</td>\n",
       "      <td>6.100000</td>\n",
       "      <td>2008.000000</td>\n",
       "    </tr>\n",
       "    <tr>\n",
       "      <th>75%</th>\n",
       "      <td>7.200000e+07</td>\n",
       "      <td>1.782626e+08</td>\n",
       "      <td>120.000000</td>\n",
       "      <td>6.600000</td>\n",
       "      <td>2012.000000</td>\n",
       "    </tr>\n",
       "    <tr>\n",
       "      <th>max</th>\n",
       "      <td>3.800000e+08</td>\n",
       "      <td>2.781506e+09</td>\n",
       "      <td>214.000000</td>\n",
       "      <td>8.100000</td>\n",
       "      <td>2015.000000</td>\n",
       "    </tr>\n",
       "  </tbody>\n",
       "</table>\n",
       "</div>"
      ],
      "text/plain": [
       "             budget       revenue      runtime  vote_average  release_year\n",
       "count  1.889000e+03  1.889000e+03  1889.000000   1889.000000   1889.000000\n",
       "mean   5.431083e+07  1.553653e+08   109.658549      6.140762   2007.860773\n",
       "std    4.858721e+07  2.146698e+08    18.017041      0.764763      4.468841\n",
       "min    5.000000e+06  2.033165e+06    63.000000      3.300000   2000.000000\n",
       "25%    2.000000e+07  3.456058e+07    97.000000      5.600000   2004.000000\n",
       "50%    3.800000e+07  8.361541e+07   107.000000      6.100000   2008.000000\n",
       "75%    7.200000e+07  1.782626e+08   120.000000      6.600000   2012.000000\n",
       "max    3.800000e+08  2.781506e+09   214.000000      8.100000   2015.000000"
      ]
     },
     "execution_count": 4,
     "metadata": {},
     "output_type": "execute_result"
    }
   ],
   "source": [
    "data.describe()"
   ]
  },
  {
   "cell_type": "markdown",
   "metadata": {
    "colab_type": "text",
    "id": "DTIt7ezGVp-G"
   },
   "source": [
    "# Предобработка"
   ]
  },
  {
   "cell_type": "code",
   "execution_count": 5,
   "metadata": {
    "colab": {},
    "colab_type": "code",
    "id": "jNb40DwKVp-H"
   },
   "outputs": [],
   "source": [
    "answers = {} # создадим словарь для ответов\n",
    "# тут другие ваши предобработки колонок например:\n",
    "# добавим в датасет колонку profit это прибыль = сборы - бюджет\n",
    "data['profit']=data.revenue-data.budget"
   ]
  },
  {
   "cell_type": "markdown",
   "metadata": {
    "colab_type": "text",
    "id": "YxZaH-nPVp-L"
   },
   "source": [
    "# 1. У какого фильма из списка самый большой бюджет?"
   ]
  },
  {
   "cell_type": "markdown",
   "metadata": {
    "colab_type": "text",
    "id": "Nd-G5gX6Vp-M"
   },
   "source": [
    "Использовать варианты ответов в коде решения запрещено.    \n",
    "Вы думаете и в жизни у вас будут варианты ответов?)"
   ]
  },
  {
   "cell_type": "code",
   "execution_count": 5,
   "metadata": {
    "colab": {},
    "colab_type": "code",
    "id": "uVnXAY5RVp-O"
   },
   "outputs": [
    {
     "data": {
      "text/plain": [
       "723    Pirates of the Caribbean: On Stranger Tides\n",
       "Name: original_title, dtype: object"
      ]
     },
     "execution_count": 5,
     "metadata": {},
     "output_type": "execute_result"
    }
   ],
   "source": [
    "# в словарь вставляем номер вопроса и ваш ответ на него\n",
    "# запишите свой вариант ответа\n",
    "answers['1']='5. Pirates of the Caribbean: On Stranger Tides'\n",
    "data[data.budget == data.budget.max()].original_title\n",
    "# +\n",
    "# если ответили верно, можете добавить комментарий со значком \"+\""
   ]
  },
  {
   "cell_type": "markdown",
   "metadata": {
    "colab_type": "text",
    "id": "K7L3nbRXVp-X"
   },
   "source": [
    "ВАРИАНТ 2"
   ]
  },
  {
   "cell_type": "code",
   "execution_count": 6,
   "metadata": {
    "colab": {},
    "colab_type": "code",
    "id": "OGaoQI7rVp-X"
   },
   "outputs": [
    {
     "data": {
      "text/plain": [
       "723    Pirates of the Caribbean: On Stranger Tides\n",
       "Name: original_title, dtype: object"
      ]
     },
     "execution_count": 6,
     "metadata": {},
     "output_type": "execute_result"
    }
   ],
   "source": [
    "# можно добавлять разные варианты решения\n",
    "# находим самый высокий  бюджет \n",
    "data['budget'].max()\n",
    "# находим сам  фильм исходя из  бюджета\n",
    "data.query('budget == 380000000').original_title\n",
    "# +"
   ]
  },
  {
   "cell_type": "markdown",
   "metadata": {
    "colab_type": "text",
    "id": "FNRbbI3vVp-c"
   },
   "source": [
    "# 2. Какой из фильмов самый длительный (в минутах)?"
   ]
  },
  {
   "cell_type": "code",
   "execution_count": 7,
   "metadata": {
    "colab": {},
    "colab_type": "code",
    "id": "vHAoEXNTVp-d"
   },
   "outputs": [],
   "source": [
    "# думаю логику работы с этим словарем вы уже поняли, \n",
    "# по этому не буду больше его дублировать\n",
    "answers['2']='2. Gods and Generals'\n",
    "# +"
   ]
  },
  {
   "cell_type": "code",
   "execution_count": 8,
   "metadata": {
    "colab": {},
    "colab_type": "code",
    "id": "ot-VX2XrVp-g"
   },
   "outputs": [
    {
     "data": {
      "text/plain": [
       "1157    Gods and Generals\n",
       "Name: original_title, dtype: object"
      ]
     },
     "execution_count": 8,
     "metadata": {},
     "output_type": "execute_result"
    }
   ],
   "source": [
    "data[data.runtime == data.runtime.max()].original_title"
   ]
  },
  {
   "cell_type": "markdown",
   "metadata": {
    "colab_type": "text",
    "id": "bapLlpW8Vp-k"
   },
   "source": [
    "# 3. Какой из фильмов самый короткий (в минутах)?\n",
    "\n",
    "\n",
    "\n"
   ]
  },
  {
   "cell_type": "code",
   "execution_count": 9,
   "metadata": {
    "colab": {},
    "colab_type": "code",
    "id": "YBxaSHuAVp-l"
   },
   "outputs": [
    {
     "data": {
      "text/plain": [
       "768    Winnie the Pooh\n",
       "Name: original_title, dtype: object"
      ]
     },
     "execution_count": 9,
     "metadata": {},
     "output_type": "execute_result"
    }
   ],
   "source": [
    "answers['3']='3. Winnie the Pooh'\n",
    "data[data.runtime == data.runtime.min()].original_title\n",
    "# +"
   ]
  },
  {
   "cell_type": "markdown",
   "metadata": {
    "colab_type": "text",
    "id": "TfQbxbfNVp-p"
   },
   "source": [
    "# 4. Какова средняя длительность фильмов?\n"
   ]
  },
  {
   "cell_type": "code",
   "execution_count": 10,
   "metadata": {
    "colab": {},
    "colab_type": "code",
    "id": "5K6dKZYVVp-q"
   },
   "outputs": [
    {
     "data": {
      "text/plain": [
       "110"
      ]
     },
     "execution_count": 10,
     "metadata": {},
     "output_type": "execute_result"
    }
   ],
   "source": [
    "answers['4']='2. 110'\n",
    "# округляем и  находим  средлее значение продолжительности  фильма\n",
    "round(data.runtime.mean())\n",
    "# +"
   ]
  },
  {
   "cell_type": "markdown",
   "metadata": {
    "colab_type": "text",
    "id": "r5TvbnT_Vp-u"
   },
   "source": [
    "# 5. Каково медианное значение длительности фильмов? "
   ]
  },
  {
   "cell_type": "code",
   "execution_count": 11,
   "metadata": {
    "colab": {},
    "colab_type": "code",
    "id": "iBROplKnVp-v"
   },
   "outputs": [
    {
     "data": {
      "text/plain": [
       "107"
      ]
     },
     "execution_count": 11,
     "metadata": {},
     "output_type": "execute_result"
    }
   ],
   "source": [
    "answers['5']='1. 107'\n",
    "# округляем и  находим  медианное значение продолжительности  фильма\n",
    "round(data['runtime'].median())\n",
    "# +"
   ]
  },
  {
   "cell_type": "markdown",
   "metadata": {
    "colab_type": "text",
    "id": "39P-deDSVp-y"
   },
   "source": [
    "# 6. Какой самый прибыльный фильм?\n",
    "#### Внимание! Здесь и далее под «прибылью» или «убытками» понимается разность между сборами и бюджетом фильма. (прибыль = сборы - бюджет) в нашем датасете это будет (profit = revenue - budget) "
   ]
  },
  {
   "cell_type": "code",
   "execution_count": 12,
   "metadata": {
    "colab": {},
    "colab_type": "code",
    "id": "UYZh4T9WVp-y"
   },
   "outputs": [
    {
     "data": {
      "text/plain": [
       "239    Avatar\n",
       "Name: original_title, dtype: object"
      ]
     },
     "execution_count": 12,
     "metadata": {},
     "output_type": "execute_result"
    }
   ],
   "source": [
    "answers['6']='5. Avatar'\n",
    "# находим  максимальное  значение в  созоданной выше колонке  профит по  названию фильма\n",
    "data[data.profit == data.profit.max()].original_title\n",
    "# +"
   ]
  },
  {
   "cell_type": "markdown",
   "metadata": {
    "colab_type": "text",
    "id": "M99JmIX4Vp-2"
   },
   "source": [
    "# 7. Какой фильм самый убыточный? "
   ]
  },
  {
   "cell_type": "code",
   "execution_count": 13,
   "metadata": {
    "colab": {},
    "colab_type": "code",
    "id": "w-D2m4XPVp-3"
   },
   "outputs": [
    {
     "data": {
      "text/plain": [
       "1245    The Lone Ranger\n",
       "Name: original_title, dtype: object"
      ]
     },
     "execution_count": 13,
     "metadata": {},
     "output_type": "execute_result"
    }
   ],
   "source": [
    "answers['7']='5. The Lone Ranger'\n",
    "# находим  минимальное  значение в  созоданной выше колонке  профит по  названию фильма\n",
    "data[data.profit == data.profit.min()].original_title\n",
    "# +"
   ]
  },
  {
   "cell_type": "markdown",
   "metadata": {
    "colab_type": "text",
    "id": "wEOM5ERVVp-6"
   },
   "source": [
    "# 8. У скольких фильмов из датасета объем сборов оказался выше бюджета?"
   ]
  },
  {
   "cell_type": "code",
   "execution_count": 14,
   "metadata": {
    "colab": {},
    "colab_type": "code",
    "id": "y00_7HD6Vp-7"
   },
   "outputs": [
    {
     "data": {
      "text/plain": [
       "1478"
      ]
     },
     "execution_count": 14,
     "metadata": {},
     "output_type": "execute_result"
    }
   ],
   "source": [
    "answers['8']='1. 1478'\n",
    "# посчитаем кол-во фильмов  которые  принесли  прибль\n",
    "len(data[data.profit > 0])\n",
    "# +"
   ]
  },
  {
   "cell_type": "markdown",
   "metadata": {
    "colab_type": "text",
    "id": "xhpspA9KVp_A"
   },
   "source": [
    "# 9. Какой фильм оказался самым кассовым в 2008 году?"
   ]
  },
  {
   "cell_type": "code",
   "execution_count": 15,
   "metadata": {
    "colab": {},
    "colab_type": "code",
    "id": "MoUyQr9RVp_B"
   },
   "outputs": [
    {
     "data": {
      "text/plain": [
       "599    The Dark Knight\n",
       "Name: original_title, dtype: object"
      ]
     },
     "execution_count": 15,
     "metadata": {},
     "output_type": "execute_result"
    }
   ],
   "source": [
    "answers['9']='4. The Dark Knight'\n",
    "# посчитаем максимальные кассовые  сборы фильма 2008 и отфильтруем  но  названию\n",
    "data[data.revenue==data[data.release_year==2008].revenue.max()].original_title\n",
    "# +"
   ]
  },
  {
   "cell_type": "markdown",
   "metadata": {
    "colab_type": "text",
    "id": "Zi4hDKidVp_F"
   },
   "source": [
    "# 10. Самый убыточный фильм за период с 2012 по 2014 г. (включительно)?\n"
   ]
  },
  {
   "cell_type": "markdown",
   "metadata": {},
   "source": [
    "Вариант 1"
   ]
  },
  {
   "cell_type": "code",
   "execution_count": 16,
   "metadata": {
    "colab": {},
    "colab_type": "code",
    "id": "XqyRmufJVp_F"
   },
   "outputs": [
    {
     "data": {
      "text/plain": [
       "1245    The Lone Ranger\n",
       "Name: original_title, dtype: object"
      ]
     },
     "execution_count": 16,
     "metadata": {},
     "output_type": "execute_result"
    }
   ],
   "source": [
    "answers['10']='5. The Lone Ranger'\n",
    "# Отфильтруем через  функцию  query наш датасет на  заданный пероид 2012-2014\n",
    "data2012_2014=data.query('release_year in [\"2012\",\"2013\",\"2014\"]')\n",
    "# Посчитаем минимальную прибль отфильтруем по названию\n",
    "data2012_2014[data2012_2014.profit==data2012_2014.profit.min()].original_title\n",
    "# +"
   ]
  },
  {
   "cell_type": "markdown",
   "metadata": {},
   "source": [
    "Вариант 2"
   ]
  },
  {
   "cell_type": "code",
   "execution_count": 17,
   "metadata": {},
   "outputs": [
    {
     "data": {
      "text/plain": [
       "1245    The Lone Ranger\n",
       "Name: original_title, dtype: object"
      ]
     },
     "execution_count": 17,
     "metadata": {},
     "output_type": "execute_result"
    }
   ],
   "source": [
    "# Задаем  условие  считаем минимальную  прибль  фильтруем по  названию\n",
    "data[data.profit == data[(data.release_year >= 2012) & (data.release_year <= 2014)].profit.min()].original_title\n",
    "# +"
   ]
  },
  {
   "cell_type": "markdown",
   "metadata": {
    "colab_type": "text",
    "id": "EA7Sa9dkVp_I"
   },
   "source": [
    "# 11. Какого жанра фильмов больше всего?"
   ]
  },
  {
   "cell_type": "code",
   "execution_count": 18,
   "metadata": {
    "colab": {},
    "colab_type": "code",
    "id": "zsJAwJ8QVp_J",
    "scrolled": true
   },
   "outputs": [
    {
     "data": {
      "text/plain": [
       "Drama    782\n",
       "dtype: int64"
      ]
     },
     "execution_count": 18,
     "metadata": {},
     "output_type": "execute_result"
    }
   ],
   "source": [
    "answers['11']='2. Drama'\n",
    "# Воспользуемся пандас  серией, с помощью  функции .cat() выделим жанры при\n",
    "# при помощи split() разделим  посчитаем при помощи value_counts и  выведем на экран командой head()\n",
    "pd.Series(data['genres'].str.cat(sep='|').split('|')).value_counts().head(1)\n",
    "# +"
   ]
  },
  {
   "cell_type": "markdown",
   "metadata": {
    "colab_type": "text",
    "id": "Ax6g2C8SVp_M"
   },
   "source": [
    "ВАРИАНТ 2"
   ]
  },
  {
   "cell_type": "code",
   "execution_count": 19,
   "metadata": {},
   "outputs": [
    {
     "data": {
      "text/plain": [
       "('Drama',\n",
       " Drama    782\n",
       " dtype: int64)"
      ]
     },
     "execution_count": 19,
     "metadata": {},
     "output_type": "execute_result"
    }
   ],
   "source": [
    "# Аналогичное  решение  при   помощи  функции  stuck() которую  можно  применить  к DataFrame\n",
    "df_genres = data.genres.str.split('|',expand=True).stack().value_counts()\n",
    "df_genres.index[0], df_genres.head(1)\n",
    "# +"
   ]
  },
  {
   "cell_type": "markdown",
   "metadata": {
    "colab_type": "text",
    "id": "T9_bPWpkVp_Q"
   },
   "source": [
    "# 12. Фильмы какого жанра чаще всего становятся прибыльными? "
   ]
  },
  {
   "cell_type": "markdown",
   "metadata": {},
   "source": [
    "Вариант 1"
   ]
  },
  {
   "cell_type": "code",
   "execution_count": 20,
   "metadata": {
    "colab": {},
    "colab_type": "code",
    "id": "Tmt8MaK1Vp_R"
   },
   "outputs": [
    {
     "data": {
      "text/plain": [
       "Drama    560\n",
       "dtype: int64"
      ]
     },
     "execution_count": 20,
     "metadata": {},
     "output_type": "execute_result"
    }
   ],
   "source": [
    "answers['12']='1. Drama'\n",
    "#Отбираем только прибыльные фильмы \n",
    "data2=data.loc[data.profit>0]\n",
    "# Воспользуемся пандас  Series, с помощью  функции .cat() выделим жанры при\n",
    "# при помощи split() разделим  посчитаем при помощи value_counts и  выведем на экран командой head()\n",
    "pd.Series(data2['genres'].str.cat(sep='|').split('|')).value_counts().head(1)"
   ]
  },
  {
   "cell_type": "markdown",
   "metadata": {},
   "source": [
    "Вариант 2"
   ]
  },
  {
   "cell_type": "code",
   "execution_count": 21,
   "metadata": {},
   "outputs": [
    {
     "data": {
      "text/plain": [
       "('Drama',\n",
       " Drama    560\n",
       " dtype: int64)"
      ]
     },
     "execution_count": 21,
     "metadata": {},
     "output_type": "execute_result"
    }
   ],
   "source": [
    "answers['12'] = '1. Drama'\n",
    "\n",
    "#Отбираем только прибыльные фильмы \n",
    "data2=data.loc[data.profit>0]\n",
    "#Получаем все жанры, подсчитываем результат\n",
    "genres1=data2.genres.str.split('|',expand=True).stack().value_counts()\n",
    "#выводим результат\n",
    "genres1.index[0], genres1.head(1)\n",
    "#+"
   ]
  },
  {
   "cell_type": "markdown",
   "metadata": {
    "colab_type": "text",
    "id": "0F23bgsDVp_U"
   },
   "source": [
    "# 13. У какого режиссера самые большие суммарные кассовые сбооры?"
   ]
  },
  {
   "cell_type": "code",
   "execution_count": 22,
   "metadata": {
    "colab": {},
    "colab_type": "code",
    "id": "K6Z3J8ygVp_X"
   },
   "outputs": [
    {
     "data": {
      "text/plain": [
       "(director\n",
       " Peter Jackson    6490593685\n",
       " Name: revenue, dtype: int64,\n",
       " 'Peter Jackson')"
      ]
     },
     "execution_count": 22,
     "metadata": {},
     "output_type": "execute_result"
    }
   ],
   "source": [
    "answers['13']='5. Peter Jackson'\n",
    "# Воспользуемся  групперовкой режисеров по кассовым  сборам суммируем и  сортируем по  убыванию\n",
    "grouped_director=data.groupby(['director'])['revenue'].sum().sort_values(ascending=False)\n",
    "# Выводим на экран\n",
    "grouped_director.head(1), grouped_director.index[0]\n",
    "# +"
   ]
  },
  {
   "cell_type": "markdown",
   "metadata": {},
   "source": [
    "Вариант 2"
   ]
  },
  {
   "cell_type": "code",
   "execution_count": 23,
   "metadata": {},
   "outputs": [
    {
     "data": {
      "text/plain": [
       "{'Peter Jackson': 6490593685}"
      ]
     },
     "execution_count": 23,
     "metadata": {},
     "output_type": "execute_result"
    }
   ],
   "source": [
    "# Вариант  при  помощи  цикла  очен  грамосткий и занимает  определенное  кол-во  вреени но  тоже имеет  место быть\n",
    "#Находим список всех режиссеров\n",
    "director_all = data['director'].str.split('|',expand=True).stack().unique()\n",
    "#Создаем промежуточный словарь куда  будут   записываться все режисеры и их  сборы\n",
    "dict_all = {}\n",
    "# с  помощью цикла определяем  суммы сборов по каждому режиссеру\n",
    "for director in director_all:\n",
    "    if(director not in dict_all):        \n",
    "        dict_all[director] = data[data['director'].str.contains(director,False)]['revenue'].agg('sum')        \n",
    "    else:\n",
    "        sum = dict_all[director] \n",
    "        dict_all[director] = sum+data[data['director'].str.contains(director,False)]['revenue'].agg('sum')\n",
    "\n",
    "#Определяем максимумальный сбор в  промежуточном словаре\n",
    "max_value = max(dict_all.values())\n",
    "dict_max = {k: v for k, v in dict_all.items() if v == max_value}\n",
    "#Выводим результат\n",
    "dict_max\n",
    "# +"
   ]
  },
  {
   "cell_type": "markdown",
   "metadata": {
    "colab_type": "text",
    "id": "PsYC9FgRVp_a"
   },
   "source": [
    "# 14. Какой режисер снял больше всего фильмов в стиле Action?"
   ]
  },
  {
   "cell_type": "markdown",
   "metadata": {},
   "source": [
    "Вариант 1"
   ]
  },
  {
   "cell_type": "code",
   "execution_count": 24,
   "metadata": {
    "colab": {},
    "colab_type": "code",
    "id": "wd2M-wHeVp_b",
    "scrolled": true
   },
   "outputs": [
    {
     "data": {
      "text/plain": [
       "Robert Rodriguez    9\n",
       "dtype: int64"
      ]
     },
     "execution_count": 24,
     "metadata": {},
     "output_type": "execute_result"
    }
   ],
   "source": [
    "answers['14']='3. Robert Rodriguez'\n",
    "# Фильтруем   все  фильмы  по   жанру Action \n",
    "data_Action=data[data.genres.str.contains('Action')]\n",
    "# # Воспользуемся пандас  Series, с помощью  функции .cat() выделим режисеров \n",
    "# при помощи split() разделим  посчитаем при помощи value_counts и  выведем на экран командой head()\n",
    "pd.Series(data_Action['director'].str.cat(sep='|').split('|')).value_counts().head(1)\n",
    "# +"
   ]
  },
  {
   "cell_type": "markdown",
   "metadata": {},
   "source": [
    "Вариант 2"
   ]
  },
  {
   "cell_type": "code",
   "execution_count": 25,
   "metadata": {},
   "outputs": [
    {
     "data": {
      "text/plain": [
       "Robert Rodriguez    9\n",
       "dtype: int64"
      ]
     },
     "execution_count": 25,
     "metadata": {},
     "output_type": "execute_result"
    }
   ],
   "source": [
    "# Фильтруем   все  фильмы  по   жанру Action \n",
    "data_Action=data[data.genres.str.contains('Action')]\n",
    "# рассмотрим всех отсортируем и  выведем первого в  списке \n",
    "data_Action['director'].str.split('|',expand=True).stack().value_counts().head(1)\n",
    "# +"
   ]
  },
  {
   "cell_type": "markdown",
   "metadata": {
    "colab_type": "text",
    "id": "PQ0KciD7Vp_f"
   },
   "source": [
    "# 15. Фильмы с каким актером принесли самые высокие кассовые сборы в 2012 году? "
   ]
  },
  {
   "cell_type": "markdown",
   "metadata": {},
   "source": [
    "Вариант 1"
   ]
  },
  {
   "cell_type": "code",
   "execution_count": 26,
   "metadata": {
    "colab": {},
    "colab_type": "code",
    "id": "aga62oeKVp_g"
   },
   "outputs": [
    {
     "data": {
      "text/plain": [
       "new_cast\n",
       "Chris Hemsworth    2027450773\n",
       "Name: revenue, dtype: int64"
      ]
     },
     "execution_count": 26,
     "metadata": {},
     "output_type": "execute_result"
    }
   ],
   "source": [
    "answers['15']='3. Chris Hemsworth'\n",
    "# \n",
    "# Делаем копию исходного датафрейма:\n",
    "data_copy = data.copy()\n",
    "# Создаем в ней столбец с разделенными значениями актеров:\n",
    "data_copy['new_cast'] = data[data.release_year == 2012]['cast'].str.split('|')\n",
    "# Преобразуем каждый элемент списка в строку:\n",
    "data_copy = data_copy.explode('new_cast')\n",
    "# И группируем по значению выручки:\n",
    "data_copy.groupby(by = 'new_cast')['revenue'].agg('sum').sort_values(ascending=False).head(1)\n",
    "# +"
   ]
  },
  {
   "cell_type": "markdown",
   "metadata": {},
   "source": [
    "Вариант 2"
   ]
  },
  {
   "cell_type": "code",
   "execution_count": 27,
   "metadata": {},
   "outputs": [
    {
     "data": {
      "text/plain": [
       "(                          0\n",
       " Chris Hemsworth  2027450773,\n",
       " 'Chris Hemsworth')"
      ]
     },
     "execution_count": 27,
     "metadata": {},
     "output_type": "execute_result"
    }
   ],
   "source": [
    "# через цикл аналогично находим разделяем актеров \n",
    "data_cast = pd.Series(data['cast'].str.cat(sep='|').split('|')).value_counts()\n",
    "# Проходим по  циклу  с указанными параметрами при  помощи  map приминяем  ком всем  значениям внутри  lambda функции и  сумируем результат \n",
    "for i in data_cast.index:\n",
    "    data_cast[i] = data['revenue'][data['release_year']==2012][data['cast'].map(lambda x: True if i in x else False)].sum()\n",
    "# сортируем и  выводим на экран лучшего\n",
    "data_cast = pd.DataFrame(data_cast).sort_values(0,ascending=False)\n",
    "data_cast.head(1), data_cast.index[0]\n",
    "# +"
   ]
  },
  {
   "cell_type": "markdown",
   "metadata": {
    "colab_type": "text",
    "id": "mWHyyL7QVp_j"
   },
   "source": [
    "# 16. Какой актер снялся в большем количестве высокобюджетных фильмов?"
   ]
  },
  {
   "cell_type": "markdown",
   "metadata": {},
   "source": [
    "Вариант 1"
   ]
  },
  {
   "cell_type": "code",
   "execution_count": 28,
   "metadata": {
    "colab": {},
    "colab_type": "code",
    "id": "qQtmHKTFVp_k"
   },
   "outputs": [
    {
     "data": {
      "text/plain": [
       "Matt Damon    18\n",
       "dtype: int64"
      ]
     },
     "execution_count": 28,
     "metadata": {},
     "output_type": "execute_result"
    }
   ],
   "source": [
    "answers['16']='3. Matt Damon'\n",
    "# Определяем кол-во  высокобюджетных фильмов\n",
    "data16=data[data.budget>data.budget.mean()]\n",
    "# определяем актеров  этих  фильмов с   помощью Series\n",
    "pd.Series(data16['cast'].str.cat(sep='|').split('|')).value_counts().head(1)\n",
    "# +"
   ]
  },
  {
   "cell_type": "markdown",
   "metadata": {},
   "source": [
    "Вариант 2"
   ]
  },
  {
   "cell_type": "code",
   "execution_count": 29,
   "metadata": {},
   "outputs": [
    {
     "data": {
      "text/plain": [
       "('Matt Damon',\n",
       " Matt Damon    18\n",
       " dtype: int64)"
      ]
     },
     "execution_count": 29,
     "metadata": {},
     "output_type": "execute_result"
    }
   ],
   "source": [
    "# Определяем кол-во  высокобюджетных фильмов\n",
    "data16=data[data.budget>data.budget.mean()]\n",
    "# определяем актеров  этих  фильмов\n",
    "cast_genres = data16.cast.str.split('|',expand=True).stack().value_counts()\n",
    "# выводим на экран \n",
    "cast_genres.index[0], cast_genres.head(1)\n",
    "# +"
   ]
  },
  {
   "cell_type": "markdown",
   "metadata": {},
   "source": [
    "Вариант 3"
   ]
  },
  {
   "cell_type": "code",
   "execution_count": 30,
   "metadata": {},
   "outputs": [],
   "source": [
    "# с  помощью цикла, Но Больше не буду   прибегать  к  данному  виду решения  т.к. очень  грамостко занимает  много времени "
   ]
  },
  {
   "cell_type": "markdown",
   "metadata": {
    "colab_type": "text",
    "id": "NIh6AaW5Vp_n"
   },
   "source": [
    "# 17. В фильмах какого жанра больше всего снимался Nicolas Cage? "
   ]
  },
  {
   "cell_type": "code",
   "execution_count": 31,
   "metadata": {
    "colab": {},
    "colab_type": "code",
    "id": "H74SJDIBVp_n"
   },
   "outputs": [
    {
     "data": {
      "text/plain": [
       "Action    17\n",
       "dtype: int64"
      ]
     },
     "execution_count": 31,
     "metadata": {},
     "output_type": "execute_result"
    }
   ],
   "source": [
    "answers['17']='2. Action'\n",
    "# Определяем в  каких фильмах  снялся  актер\n",
    "data_NC=data[data.cast.str.contains('Nicolas Cage')]\n",
    "# Фильтруем по  жанрам делаем подсчет выводим на  экран\n",
    "pd.Series(data_NC['genres'].str.cat(sep='|').split('|')).value_counts().head(1)\n",
    "# +"
   ]
  },
  {
   "cell_type": "markdown",
   "metadata": {},
   "source": [
    "Вариант 2,3 аналоги выше  упомянутым"
   ]
  },
  {
   "cell_type": "markdown",
   "metadata": {
    "colab_type": "text",
    "id": "RqOmPRfWVp_q"
   },
   "source": [
    "# 18. Самый убыточный фильм от Paramount Pictures"
   ]
  },
  {
   "cell_type": "markdown",
   "metadata": {},
   "source": [
    "Вариант 1"
   ]
  },
  {
   "cell_type": "code",
   "execution_count": 32,
   "metadata": {
    "colab": {},
    "colab_type": "code",
    "id": "9E_B0Y96Vp_r"
   },
   "outputs": [
    {
     "data": {
      "text/plain": [
       "925    K-19: The Widowmaker\n",
       "Name: original_title, dtype: object"
      ]
     },
     "execution_count": 32,
     "metadata": {},
     "output_type": "execute_result"
    }
   ],
   "source": [
    "answers['18']='1. K-19: The Widowmaker'\n",
    "# Фильтруем  все  фильмы Paramount Pictures \n",
    "data_PP=data[data.production_companies.str.contains('Paramount Pictures')]\n",
    "# Находим самый убыточный\n",
    "data_PP[data_PP.profit==data_PP.profit.min()].original_title\n",
    "# +"
   ]
  },
  {
   "cell_type": "markdown",
   "metadata": {},
   "source": [
    "Вариант 2"
   ]
  },
  {
   "cell_type": "code",
   "execution_count": 33,
   "metadata": {},
   "outputs": [
    {
     "data": {
      "text/plain": [
       "925    K-19: The Widowmaker\n",
       "Name: original_title, dtype: object"
      ]
     },
     "execution_count": 33,
     "metadata": {},
     "output_type": "execute_result"
    }
   ],
   "source": [
    "\n",
    "#Отберем убыточные фильмы  студии Paramount Pictures\n",
    "data_PP = data[(data.profit < 0) & (data['production_companies'].str.contains('Paramount Pictures'))]\n",
    "#Сотрируем результат по profit\n",
    "data_PP.sort_values('profit').original_title.head(1)\n",
    "#+"
   ]
  },
  {
   "cell_type": "markdown",
   "metadata": {
    "colab_type": "text",
    "id": "vS8Ur6ddVp_u"
   },
   "source": [
    "# 19. Какой год стал самым успешным по суммарным кассовым сборам?"
   ]
  },
  {
   "cell_type": "code",
   "execution_count": 34,
   "metadata": {
    "colab": {},
    "colab_type": "code",
    "id": "Dnbt4GdIVp_v"
   },
   "outputs": [
    {
     "data": {
      "text/plain": [
       "(release_year\n",
       " 2015    25449202382\n",
       " Name: revenue, dtype: int64,\n",
       " 2015)"
      ]
     },
     "execution_count": 34,
     "metadata": {},
     "output_type": "execute_result"
    }
   ],
   "source": [
    "answers['19']='5. 2015'\n",
    "# Групперуем по году  выпуска и кассомым сборам суммируем и  сортируем\n",
    "gb_year=data.groupby(['release_year'])['revenue'].sum().sort_values(ascending=False)\n",
    "# выводим на экран \n",
    "gb_year.head(1), gb_year.index[0]\n",
    "# +"
   ]
  },
  {
   "cell_type": "markdown",
   "metadata": {
    "colab_type": "text",
    "id": "JAzJh4QAVp_z"
   },
   "source": [
    "# 20. Какой самый прибыльный год для студии Warner Bros?"
   ]
  },
  {
   "cell_type": "markdown",
   "metadata": {},
   "source": [
    "Вариант 1"
   ]
  },
  {
   "cell_type": "code",
   "execution_count": 35,
   "metadata": {
    "colab": {},
    "colab_type": "code",
    "id": "wgVu02DEVp_0"
   },
   "outputs": [
    {
     "data": {
      "text/plain": [
       "(release_year\n",
       " 2014    2295464519\n",
       " Name: profit, dtype: int64,\n",
       " 2014)"
      ]
     },
     "execution_count": 35,
     "metadata": {},
     "output_type": "execute_result"
    }
   ],
   "source": [
    "answers['20']='1. 2014'\n",
    "# Фильтруем  все   фильмы Warner Bros в переменную\n",
    "data_WB=data[data.production_companies.str.contains('Warner Bros')]\n",
    "# Групперуем по году  выпуска,прибыльности, суммируем и  сортируем\n",
    "gr_WB_year=data_WB.groupby(['release_year'])['profit'].sum().sort_values(ascending=False)\n",
    "# выводим на экран \n",
    "gr_WB_year.head(1), gr_WB_year.index[0]\n",
    "# +"
   ]
  },
  {
   "cell_type": "markdown",
   "metadata": {
    "colab_type": "text",
    "id": "8Im1S2HRVp_4"
   },
   "source": [
    "# 21. В каком месяце за все годы суммарно вышло больше всего фильмов?"
   ]
  },
  {
   "cell_type": "code",
   "execution_count": 36,
   "metadata": {
    "colab": {},
    "colab_type": "code",
    "id": "lev6TH7gVp_4"
   },
   "outputs": [
    {
     "data": {
      "text/plain": [
       "9    227\n",
       "Name: month, dtype: int64"
      ]
     },
     "execution_count": 36,
     "metadata": {},
     "output_type": "execute_result"
    }
   ],
   "source": [
    "answers['21']='4. Сентябрь'\n",
    "# Разобьем дату  на   составляющие месяц день  год и посчитаем  кол-во фильмов  которые  будут  равны ее дате \n",
    "release=data['release_date'].str.split('/',expand=True)\n",
    "release.columns=['month','day','year']\n",
    "months=release['month'].value_counts()\n",
    "months.head(1) \n",
    "# +"
   ]
  },
  {
   "cell_type": "markdown",
   "metadata": {
    "colab_type": "text",
    "id": "uAJsZ_NeVp_7"
   },
   "source": [
    "# 22. Сколько суммарно вышло фильмов летом? (за июнь, июль, август)"
   ]
  },
  {
   "cell_type": "code",
   "execution_count": 37,
   "metadata": {
    "colab": {},
    "colab_type": "code",
    "id": "Aa-hEREoVp_8"
   },
   "outputs": [
    {
     "data": {
      "text/plain": [
       "450"
      ]
     },
     "execution_count": 37,
     "metadata": {},
     "output_type": "execute_result"
    }
   ],
   "source": [
    "answers['22']='2. 450'\n",
    "# Разобьем дату  на   составляющие месяц день  год и посчитаем  кол-во фильмов  которые  будут  равны ее дате \n",
    "release=data['release_date'].str.split('/',expand=True)\n",
    "release.columns=['month','day','year']\n",
    "months=release['month'].value_counts()\n",
    "# просуммируем  летние месяца получим  кол-во  фильмов в летний сезон\n",
    "months['6']+months['7']+months['8']\n",
    "# +"
   ]
  },
  {
   "cell_type": "markdown",
   "metadata": {
    "colab_type": "text",
    "id": "G94ppOY1VqAA"
   },
   "source": [
    "# 23. Для какого режиссера зима – самое продуктивное время года? "
   ]
  },
  {
   "cell_type": "code",
   "execution_count": 38,
   "metadata": {
    "colab": {},
    "colab_type": "code",
    "id": "RhNTsamuVqAB"
   },
   "outputs": [
    {
     "data": {
      "text/plain": [
       "'Peter Jackson'"
      ]
     },
     "execution_count": 38,
     "metadata": {},
     "output_type": "execute_result"
    }
   ],
   "source": [
    "answers['23'] = '5. Peter Jackson'\n",
    "\n",
    "#Преобразовываем колонку к типу датавремя\n",
    "data['release_date']=pd.to_datetime(data['release_date'])\n",
    "#Создаем новый датафрейм копией из основного \n",
    "df_month = data.copy()\n",
    "#Создаем колонку месяц и заполняем ее значениями\n",
    "df_month['month_year'] = df_month.release_date.dt.month\n",
    "#Создаем новый датафрейм отбором по зиминим месяцам из промежуточного \n",
    "df_winter_month = df_month[(df_month['month_year'] == 1) | (df_month['month_year'] == 12) | (df_month['month_year'] == 2)]\n",
    "#Выводим результат\n",
    "df_winter_month['director'].str.split('|',expand=True).stack().value_counts().index[0]\n",
    "# +"
   ]
  },
  {
   "cell_type": "markdown",
   "metadata": {
    "colab_type": "text",
    "id": "RBo0JVjVVqAF"
   },
   "source": [
    "# 24. Какая студия дает самые длинные названия своим фильмам по количеству символов?"
   ]
  },
  {
   "cell_type": "code",
   "execution_count": 39,
   "metadata": {
    "colab": {},
    "colab_type": "code",
    "id": "QRGS8L0iVqAG"
   },
   "outputs": [
    {
     "data": {
      "text/plain": [
       "pc\n",
       "Four By Two Productions    83\n",
       "Name: totalwords, dtype: int64"
      ]
     },
     "execution_count": 39,
     "metadata": {},
     "output_type": "execute_result"
    }
   ],
   "source": [
    "answers['24']='5. Four By Two Productions'\n",
    "# дублируем DF\n",
    "data24=data.copy()\n",
    "# Произведем   подсчет кол-ва  символов включая 'space' добавим их  к  DF\n",
    "data24['totalwords']=data['original_title'].map(lambda x:len(x))\n",
    "# разобьем компании  по  именам и добавим к DF\n",
    "data24['pc'] = data['production_companies'].str.split('|')\n",
    "# Преобразуем каждый элемент списка в строку\n",
    "data24 = data24.explode('pc')\n",
    "# Далее  групперуем их  находим самые длинные названия фильмов по количеству символов\n",
    "data24.groupby(by = 'pc')['totalwords'].agg('max').sort_values(ascending=False).head(1)\n",
    "# +\n"
   ]
  },
  {
   "cell_type": "markdown",
   "metadata": {
    "colab_type": "text",
    "id": "9G0hbvR7VqAK"
   },
   "source": [
    "# 25. Описание фильмов какой студии в среднем самые длинные по количеству слов?"
   ]
  },
  {
   "cell_type": "code",
   "execution_count": 48,
   "metadata": {
    "colab": {},
    "colab_type": "code",
    "id": "Ge2GsLNxVqAK"
   },
   "outputs": [
    {
     "data": {
      "text/plain": [
       "pc\n",
       "Midnight Picture Show    175.0\n",
       "Name: total, dtype: float64"
      ]
     },
     "execution_count": 48,
     "metadata": {},
     "output_type": "execute_result"
    }
   ],
   "source": [
    "answers['25']='3. Midnight Picture Show'\n",
    "# дублируем DF\n",
    "data25=data.copy()\n",
    "# Произведем   подсчет кол-во  слов в описании  добавим их  к  DF\n",
    "###########data25['total']=data['overview'].map(lambda x:len(x))############\n",
    "data25['total']=data['overview'].str.split().str.len()\n",
    "# разобьем компании  по  именам и добавим к DF\n",
    "data25['pc'] = data['production_companies'].str.split('|')\n",
    "# Преобразуем каждый элемент списка в строку\n",
    "data25 = data25.explode('pc')\n",
    "# Далее  групперуем их  находим среднее \n",
    "data25.groupby(by = 'pc')['total'].agg('mean').sort_values(ascending=False).head(1)\n",
    "# +"
   ]
  },
  {
   "cell_type": "markdown",
   "metadata": {
    "colab_type": "text",
    "id": "FJ1AFt90VqAP"
   },
   "source": [
    "# 26. Какие фильмы входят в 1 процент лучших по рейтингу? \n",
    "по vote_average"
   ]
  },
  {
   "cell_type": "code",
   "execution_count": 41,
   "metadata": {
    "colab": {},
    "colab_type": "code",
    "id": "8qmJVq4CVqAQ"
   },
   "outputs": [
    {
     "data": {
      "text/html": [
       "<div>\n",
       "<style scoped>\n",
       "    .dataframe tbody tr th:only-of-type {\n",
       "        vertical-align: middle;\n",
       "    }\n",
       "\n",
       "    .dataframe tbody tr th {\n",
       "        vertical-align: top;\n",
       "    }\n",
       "\n",
       "    .dataframe thead th {\n",
       "        text-align: right;\n",
       "    }\n",
       "</style>\n",
       "<table border=\"1\" class=\"dataframe\">\n",
       "  <thead>\n",
       "    <tr style=\"text-align: right;\">\n",
       "      <th></th>\n",
       "      <th>original_title</th>\n",
       "      <th>vote_average</th>\n",
       "    </tr>\n",
       "  </thead>\n",
       "  <tbody>\n",
       "    <tr>\n",
       "      <th>599</th>\n",
       "      <td>The Dark Knight</td>\n",
       "      <td>8.1</td>\n",
       "    </tr>\n",
       "    <tr>\n",
       "      <th>118</th>\n",
       "      <td>Interstellar</td>\n",
       "      <td>8.0</td>\n",
       "    </tr>\n",
       "    <tr>\n",
       "      <th>125</th>\n",
       "      <td>The Imitation Game</td>\n",
       "      <td>8.0</td>\n",
       "    </tr>\n",
       "    <tr>\n",
       "      <th>9</th>\n",
       "      <td>Inside Out</td>\n",
       "      <td>8.0</td>\n",
       "    </tr>\n",
       "    <tr>\n",
       "      <th>34</th>\n",
       "      <td>Room</td>\n",
       "      <td>8.0</td>\n",
       "    </tr>\n",
       "    <tr>\n",
       "      <th>1183</th>\n",
       "      <td>The Wolf of Wall Street</td>\n",
       "      <td>7.9</td>\n",
       "    </tr>\n",
       "    <tr>\n",
       "      <th>128</th>\n",
       "      <td>Gone Girl</td>\n",
       "      <td>7.9</td>\n",
       "    </tr>\n",
       "    <tr>\n",
       "      <th>1191</th>\n",
       "      <td>12 Years a Slave</td>\n",
       "      <td>7.9</td>\n",
       "    </tr>\n",
       "    <tr>\n",
       "      <th>119</th>\n",
       "      <td>Guardians of the Galaxy</td>\n",
       "      <td>7.9</td>\n",
       "    </tr>\n",
       "    <tr>\n",
       "      <th>1081</th>\n",
       "      <td>The Lord of the Rings: The Return of the King</td>\n",
       "      <td>7.9</td>\n",
       "    </tr>\n",
       "    <tr>\n",
       "      <th>1800</th>\n",
       "      <td>Memento</td>\n",
       "      <td>7.9</td>\n",
       "    </tr>\n",
       "    <tr>\n",
       "      <th>370</th>\n",
       "      <td>Inception</td>\n",
       "      <td>7.9</td>\n",
       "    </tr>\n",
       "    <tr>\n",
       "      <th>872</th>\n",
       "      <td>The Pianist</td>\n",
       "      <td>7.9</td>\n",
       "    </tr>\n",
       "    <tr>\n",
       "      <th>138</th>\n",
       "      <td>The Grand Budapest Hotel</td>\n",
       "      <td>7.9</td>\n",
       "    </tr>\n",
       "    <tr>\n",
       "      <th>1188</th>\n",
       "      <td>Her</td>\n",
       "      <td>7.8</td>\n",
       "    </tr>\n",
       "    <tr>\n",
       "      <th>28</th>\n",
       "      <td>Spotlight</td>\n",
       "      <td>7.8</td>\n",
       "    </tr>\n",
       "    <tr>\n",
       "      <th>124</th>\n",
       "      <td>Big Hero 6</td>\n",
       "      <td>7.8</td>\n",
       "    </tr>\n",
       "    <tr>\n",
       "      <th>177</th>\n",
       "      <td>The Fault in Our Stars</td>\n",
       "      <td>7.8</td>\n",
       "    </tr>\n",
       "  </tbody>\n",
       "</table>\n",
       "</div>"
      ],
      "text/plain": [
       "                                     original_title  vote_average\n",
       "599                                 The Dark Knight           8.1\n",
       "118                                    Interstellar           8.0\n",
       "125                              The Imitation Game           8.0\n",
       "9                                        Inside Out           8.0\n",
       "34                                             Room           8.0\n",
       "1183                        The Wolf of Wall Street           7.9\n",
       "128                                       Gone Girl           7.9\n",
       "1191                               12 Years a Slave           7.9\n",
       "119                         Guardians of the Galaxy           7.9\n",
       "1081  The Lord of the Rings: The Return of the King           7.9\n",
       "1800                                        Memento           7.9\n",
       "370                                       Inception           7.9\n",
       "872                                     The Pianist           7.9\n",
       "138                        The Grand Budapest Hotel           7.9\n",
       "1188                                            Her           7.8\n",
       "28                                        Spotlight           7.8\n",
       "124                                      Big Hero 6           7.8\n",
       "177                          The Fault in Our Stars           7.8"
      ]
     },
     "execution_count": 41,
     "metadata": {},
     "output_type": "execute_result"
    }
   ],
   "source": [
    "answers['26']='1. Inside Out, The Dark Knight, 12 Years a Slave'\n",
    "#запрашиваем интересующие нас  колонки  и  сортируем  по  по рейтенгу \n",
    "#выводим на  экран  только те  фильмы  которые  соответствуют запросу в 1%\n",
    "#все 3  фильма входят в  состав  1  процента  лучщих Inside Out, The Dark Knight, 12 Years a Slave'\n",
    "data[['original_title','vote_average']].sort_values('vote_average',ascending=False).head(int(len(data['vote_average'])*0.01))\n",
    "#+"
   ]
  },
  {
   "cell_type": "markdown",
   "metadata": {
    "colab_type": "text",
    "id": "MdXsUXbCVqAV"
   },
   "source": [
    "# 27. Какие актеры чаще всего снимаются в одном фильме вместе?\n"
   ]
  },
  {
   "cell_type": "code",
   "execution_count": 42,
   "metadata": {},
   "outputs": [
    {
     "data": {
      "text/plain": [
       "Daniel Radcliffe Emma Watson     8\n",
       "Daniel Radcliffe Rupert Grint    8\n",
       "Name: actor_combinations, dtype: int64"
      ]
     },
     "execution_count": 42,
     "metadata": {},
     "output_type": "execute_result"
    }
   ],
   "source": [
    "answers['27']='5. Daniel Radcliffe & Rupert Grint'\n",
    "# Подсмотерл в  слаке  решение \n",
    "# но детально разобрал itertools.combinations(iterable, [r]) - комбинации длиной r из iterable без повторяющихся элементов.\n",
    "# используя цикл  добавляем всех  не повторяющихся в  combo_list \n",
    "actor_list=data.cast.str.split('|').tolist()\n",
    "combo_list=[]\n",
    "for i in actor_list:\n",
    "    for j in combinations(i, 2):\n",
    "        combo_list.append(' '.join(j))\n",
    "# Приводим к  виду  DF и  производим  подсчет \n",
    "combo_list=pd.DataFrame(combo_list)\n",
    "combo_list.columns=['actor_combinations']\n",
    "combo_list.actor_combinations.value_counts().head(2)\n",
    "# +"
   ]
  },
  {
   "cell_type": "markdown",
   "metadata": {
    "colab_type": "text",
    "id": "4ymnxEVoVqAW"
   },
   "source": [
    "ВАРИАНТ 2"
   ]
  },
  {
   "cell_type": "code",
   "execution_count": 7,
   "metadata": {},
   "outputs": [
    {
     "name": "stdout",
     "output_type": "stream",
     "text": [
      "Ben Stiller, Owen Wilson: 6\n",
      "Vin Diesel, Paul Walker: 5\n",
      "Daniel Radcliffe, Rupert Grint: 8\n",
      "Adam Sandler, Kevin James: 5\n",
      "Johnny Depp, Helena Bonham Carter: 6\n"
     ]
    }
   ],
   "source": [
    "answers['27'] ='5. Daniel Radcliffe & Rupert Grint'\n",
    "\n",
    "#Ben Stiller, Owen Wilson\n",
    "#Vin Diesel, Paul Walker\n",
    "#Daniel Radcliffe, Rupert Grint\n",
    "#Adam Sandler, Kevin James\n",
    "#Johnny Depp, Helena Bonham Carter\n",
    "# Посчитаем кол-во съемок фильмов  каждой пары актеров в отдельности\n",
    "result1 = data[(data['cast'].str.contains('Ben Stiller')) & (data['cast'].str.contains('Owen Wilson'))]['imdb_id'].count()\n",
    "result2 = data[(data['cast'].str.contains('Vin Diesel')) & (data['cast'].str.contains('Paul Walker'))]['imdb_id'].count()\n",
    "result3 = data[(data['cast'].str.contains('Daniel Radcliffe')) & (data['cast'].str.contains('Rupert Grint'))]['imdb_id'].count()\n",
    "result4 = data[(data['cast'].str.contains('Adam Sandler')) & (data['cast'].str.contains('Kevin James'))]['imdb_id'].count()\n",
    "result5 = data[(data['cast'].str.contains('Johnny Depp')) & (data['cast'].str.contains('Helena Bonham Carter'))]['imdb_id'].count()\n",
    "\n",
    "print('Ben Stiller, Owen Wilson: {}\\nVin Diesel, Paul Walker: {}\\nDaniel Radcliffe, Rupert Grint: {}\\nAdam Sandler, Kevin James: {}\\nJohnny Depp, Helena Bonham Carter: {}'.format\n",
    "      (result1, result2, result3, result4, result5))\n",
    "\n",
    "# +"
   ]
  },
  {
   "cell_type": "markdown",
   "metadata": {
    "colab_type": "text",
    "id": "U0nONFnGVqAX"
   },
   "source": [
    "# Submission"
   ]
  },
  {
   "cell_type": "code",
   "execution_count": 44,
   "metadata": {
    "colab": {},
    "colab_type": "code",
    "id": "IfcaRO9-VqAX",
    "outputId": "0f132912-32bb-4196-c98c-abfbc4ad5a5f"
   },
   "outputs": [
    {
     "data": {
      "text/plain": [
       "{'1': '5. Pirates of the Caribbean: On Stranger Tides',\n",
       " '2': '2. Gods and Generals',\n",
       " '3': '3. Winnie the Pooh',\n",
       " '4': '2. 110',\n",
       " '5': '1. 107',\n",
       " '6': '5. Avatar',\n",
       " '7': '5. The Lone Ranger',\n",
       " '8': '1. 1478',\n",
       " '9': '4. The Dark Knight',\n",
       " '10': '5. The Lone Ranger',\n",
       " '11': '2. Drama',\n",
       " '12': '1. Drama',\n",
       " '13': '5. Peter Jackson',\n",
       " '14': '3. Robert Rodriguez',\n",
       " '15': '3. Chris Hemsworth',\n",
       " '16': '3. Matt Damon',\n",
       " '17': '2. Action',\n",
       " '18': '1. K-19: The Widowmaker',\n",
       " '19': '5. 2015',\n",
       " '20': '1. 2014',\n",
       " '21': '4. Сентябрь',\n",
       " '22': '2. 450',\n",
       " '23': '5. Peter Jackson',\n",
       " '24': '5. Four By Two Productions',\n",
       " '25': '3. Midnight Picture Show',\n",
       " '26': '1. Inside Out, The Dark Knight, 12 Years a Slave',\n",
       " '27': '5. Daniel Radcliffe & Rupert Grint'}"
      ]
     },
     "execution_count": 44,
     "metadata": {},
     "output_type": "execute_result"
    }
   ],
   "source": [
    "# в конце можно посмотреть свои ответы к каждому вопросу\n",
    "answers\n",
    "# +"
   ]
  },
  {
   "cell_type": "code",
   "execution_count": 45,
   "metadata": {
    "colab": {},
    "colab_type": "code",
    "id": "SiRmHPl8VqAd"
   },
   "outputs": [
    {
     "data": {
      "text/plain": [
       "27"
      ]
     },
     "execution_count": 45,
     "metadata": {},
     "output_type": "execute_result"
    }
   ],
   "source": [
    "# и убедиться что ни чего не пропустил)\n",
    "len(answers)\n",
    "# +"
   ]
  }
 ],
 "metadata": {
  "colab": {
   "name": "Copy of [SF-DST] Movies IMBD v4.1 TEMPLATE.ipynb",
   "provenance": []
  },
  "kernelspec": {
   "display_name": "Python 3",
   "language": "python",
   "name": "python3"
  },
  "language_info": {
   "codemirror_mode": {
    "name": "ipython",
    "version": 3
   },
   "file_extension": ".py",
   "mimetype": "text/x-python",
   "name": "python",
   "nbconvert_exporter": "python",
   "pygments_lexer": "ipython3",
   "version": "3.8.3"
  }
 },
 "nbformat": 4,
 "nbformat_minor": 1
}
