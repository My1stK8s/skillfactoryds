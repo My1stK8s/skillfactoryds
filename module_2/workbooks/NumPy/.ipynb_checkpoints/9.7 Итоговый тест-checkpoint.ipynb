{
 "cells": [
  {
   "cell_type": "code",
   "execution_count": 41,
   "metadata": {},
   "outputs": [],
   "source": [
    "import numpy as np"
   ]
  },
  {
   "cell_type": "markdown",
   "metadata": {},
   "source": [
    "Задание 1\n",
    "Отметьте НЕВЕРНЫЕ утверждения о массивах NumPy."
   ]
  },
  {
   "cell_type": "markdown",
   "metadata": {},
   "source": [
    "Все массивы NumPy относятся к классу ndarray.\n",
    "Все элементы массива должны относиться к одному и тому же типу данных.\n",
    "<!-- При обращении к элементу двумерного массива сначала указывается индекс столбца, потом — индекс строки. -->\n",
    "<!-- Для создания массива всегда используется конструктор np.array. -->"
   ]
  },
  {
   "cell_type": "markdown",
   "metadata": {},
   "source": [
    "Задание 2\n",
    "Выберите правильный код для создания массива, состоящего из 5 строк и 10 столбцов, заполненного единицами."
   ]
  },
  {
   "cell_type": "code",
   "execution_count": 3,
   "metadata": {},
   "outputs": [],
   "source": [
    "# a=np.empty((5, 1))\n",
    "b=np.ones((5,10), dtype = int)\n",
    "# c=np.full((10, 5), 1)\n",
    "# d=np.eye((5, 10))\n",
    "# f=np.array([x/x for x in range(1,10)]*5)"
   ]
  },
  {
   "cell_type": "code",
   "execution_count": 10,
   "metadata": {},
   "outputs": [
    {
     "data": {
      "text/plain": [
       "array([[1, 1, 1, 1, 1, 1, 1, 1, 1, 1],\n",
       "       [1, 1, 1, 1, 1, 1, 1, 1, 1, 1],\n",
       "       [1, 1, 1, 1, 1, 1, 1, 1, 1, 1],\n",
       "       [1, 1, 1, 1, 1, 1, 1, 1, 1, 1],\n",
       "       [1, 1, 1, 1, 1, 1, 1, 1, 1, 1]])"
      ]
     },
     "execution_count": 10,
     "metadata": {},
     "output_type": "execute_result"
    }
   ],
   "source": [
    "b"
   ]
  },
  {
   "cell_type": "markdown",
   "metadata": {},
   "source": [
    "Задание 3\n",
    "Укажите, каким может быть максимально возможное значение элемента массива, созданного с помощью кода:\n",
    "np.random.randint(1, 10, (10, 10))."
   ]
  },
  {
   "cell_type": "code",
   "execution_count": null,
   "metadata": {},
   "outputs": [],
   "source": [
    "9"
   ]
  },
  {
   "cell_type": "markdown",
   "metadata": {},
   "source": [
    "Задание 4 Перед вами массив my_array, созданный с помощью кода выше. Напишите код, с помощью которого можно извлечь из него центральный фрагмент размером 3 х 3, с числами 7, 8, 9, 12, 13, 14, 17, 18, 19.\n",
    "\n",
    "Код должен содержать имя массива и набор индексов для получения нужного среза. В ответе использовать только положительные значения индексов и введите ответ в одну строку без пробелов."
   ]
  },
  {
   "cell_type": "code",
   "execution_count": 12,
   "metadata": {},
   "outputs": [
    {
     "data": {
      "text/plain": [
       "array([[ 1,  2,  3,  4,  5],\n",
       "       [ 6,  7,  8,  9, 10],\n",
       "       [11, 12, 13, 14, 15],\n",
       "       [16, 17, 18, 19, 20],\n",
       "       [21, 22, 23, 24, 25]])"
      ]
     },
     "execution_count": 12,
     "metadata": {},
     "output_type": "execute_result"
    }
   ],
   "source": [
    "my_array = np.array([[1,2,3,4,5],\n",
    "                     [6,7,8,9,10],\n",
    "                     [11,12,13,14,15],\n",
    "                     [16,17,18,19,20],\n",
    "                     [21,22,23,24,25]])\n",
    "my_array"
   ]
  },
  {
   "cell_type": "code",
   "execution_count": 24,
   "metadata": {},
   "outputs": [
    {
     "data": {
      "text/plain": [
       "array([[ 7,  8,  9],\n",
       "       [12, 13, 14],\n",
       "       [17, 18, 19]])"
      ]
     },
     "execution_count": 24,
     "metadata": {},
     "output_type": "execute_result"
    }
   ],
   "source": [
    "my_slice = my_array[1:4,1:4]\n",
    "my_slice"
   ]
  },
  {
   "cell_type": "code",
   "execution_count": 29,
   "metadata": {},
   "outputs": [
    {
     "data": {
      "text/plain": [
       "-0.05812430261413351"
      ]
     },
     "execution_count": 29,
     "metadata": {},
     "output_type": "execute_result"
    }
   ],
   "source": [
    "my_sin=np.sin(my_array[:,:])\n",
    "my_sin.sum()"
   ]
  },
  {
   "cell_type": "markdown",
   "metadata": {},
   "source": [
    "Задание 6\n",
    "Замените элементы в центральном фрагменте 3 х 3 массива my_sin на единицы.Чему равна сумма элементов изменённого массива? Ответ округлите до трёх знаков после запятой."
   ]
  },
  {
   "cell_type": "code",
   "execution_count": 36,
   "metadata": {},
   "outputs": [
    {
     "data": {
      "text/plain": [
       "7.572"
      ]
     },
     "execution_count": 36,
     "metadata": {},
     "output_type": "execute_result"
    }
   ],
   "source": [
    "my_sin=np.sin(my_array[:,:])\n",
    "my_sin\n",
    "my_slice1 = my_sin[1:4,1:4]\n",
    "my_slice1[:]=1\n",
    "round(my_sin.sum(),3)"
   ]
  },
  {
   "cell_type": "markdown",
   "metadata": {},
   "source": [
    "Преобразуйте первые четыре столбца массива my_sin в массив из 10 строк и 2 столбцов. Чему равна сумма элементов первого столбца получившегося массива? Ответ округлите до трёх заков после точки-разделителя. Используйте преобразованный в предыдущем задании массив my_sin."
   ]
  },
  {
   "cell_type": "code",
   "execution_count": 38,
   "metadata": {},
   "outputs": [
    {
     "data": {
      "text/plain": [
       "array([[ 0.84147098,  0.90929743,  0.14112001, -0.7568025 , -0.95892427],\n",
       "       [-0.2794155 ,  1.        ,  1.        ,  1.        , -0.54402111],\n",
       "       [-0.99999021,  1.        ,  1.        ,  1.        ,  0.65028784],\n",
       "       [-0.28790332,  1.        ,  1.        ,  1.        ,  0.91294525],\n",
       "       [ 0.83665564, -0.00885131, -0.8462204 , -0.90557836, -0.13235175]])"
      ]
     },
     "execution_count": 38,
     "metadata": {},
     "output_type": "execute_result"
    }
   ],
   "source": [
    "my_sin"
   ]
  },
  {
   "cell_type": "code",
   "execution_count": 55,
   "metadata": {},
   "outputs": [
    {
     "data": {
      "text/plain": [
       "2.406"
      ]
     },
     "execution_count": 55,
     "metadata": {},
     "output_type": "execute_result"
    }
   ],
   "source": [
    "b= my_sin[:,:-1]\n",
    "c=b.reshape(10,2)\n",
    "round(sum(c[:,-2]),3)"
   ]
  },
  {
   "cell_type": "markdown",
   "metadata": {},
   "source": [
    "Подготовка массива к заданиям 8-10\n",
    "Создайте массив bigdata, содержащий квадраты всех нечётных чисел в диапазоне от 100 до 1000."
   ]
  },
  {
   "cell_type": "code",
   "execution_count": null,
   "metadata": {},
   "outputs": [],
   "source": [
    "bigdata= np.array ([x**2 for x in range(100,1001) if x%2 == 1]) \n"
   ]
  },
  {
   "cell_type": "markdown",
   "metadata": {},
   "source": [
    "Задание 8\n",
    "Чему равна медиана массива bigdata?"
   ]
  },
  {
   "cell_type": "code",
   "execution_count": null,
   "metadata": {},
   "outputs": [],
   "source": [
    "med= np.median(bigdata)"
   ]
  },
  {
   "cell_type": "markdown",
   "metadata": {},
   "source": [
    "Задание 9\n",
    "Чему равно стандартное отклонение для массива bigdata? Ответ округлите до целых:"
   ]
  },
  {
   "cell_type": "code",
   "execution_count": 75,
   "metadata": {},
   "outputs": [
    {
     "data": {
      "text/plain": [
       "292095.0"
      ]
     },
     "execution_count": 75,
     "metadata": {},
     "output_type": "execute_result"
    }
   ],
   "source": [
    "stddata=np.std(bigdata)\n",
    "stddata.round()"
   ]
  },
  {
   "cell_type": "markdown",
   "metadata": {},
   "source": [
    "Задание 10\n",
    "Чему равен коэффициент корреляции между элементами массива bigdata с чётными и нечётными индексами? Введите полученный ответ без изменений и округлений."
   ]
  },
  {
   "cell_type": "code",
   "execution_count": 77,
   "metadata": {},
   "outputs": [
    {
     "data": {
      "text/plain": [
       "array([[1.        , 0.99999973],\n",
       "       [0.99999973, 1.        ]])"
      ]
     },
     "execution_count": 77,
     "metadata": {},
     "output_type": "execute_result"
    }
   ],
   "source": [
    "bigdata\n",
    "np.corrcoef(bigdata[0::2], bigdata[1::2])"
   ]
  },
  {
   "cell_type": "code",
   "execution_count": null,
   "metadata": {},
   "outputs": [],
   "source": [
    "# bigdata[0::2] от индекса 0 с  шагом 2\n",
    "# bigdata[1::2] от индекса 1 с  шагом 2"
   ]
  },
  {
   "cell_type": "code",
   "execution_count": null,
   "metadata": {},
   "outputs": [],
   "source": []
  },
  {
   "cell_type": "code",
   "execution_count": null,
   "metadata": {},
   "outputs": [],
   "source": []
  },
  {
   "cell_type": "code",
   "execution_count": null,
   "metadata": {},
   "outputs": [],
   "source": []
  },
  {
   "cell_type": "code",
   "execution_count": null,
   "metadata": {},
   "outputs": [],
   "source": []
  },
  {
   "cell_type": "code",
   "execution_count": 78,
   "metadata": {},
   "outputs": [
    {
     "data": {
      "text/plain": [
       "array([ 10201,  11025,  11881,  12769,  13689,  14641,  15625,  16641,\n",
       "        17689,  18769,  19881,  21025,  22201,  23409,  24649,  25921,\n",
       "        27225,  28561,  29929,  31329,  32761,  34225,  35721,  37249,\n",
       "        38809,  40401,  42025,  43681,  45369,  47089,  48841,  50625,\n",
       "        52441,  54289,  56169,  58081,  60025,  62001,  64009,  66049,\n",
       "        68121,  70225,  72361,  74529,  76729,  78961,  81225,  83521,\n",
       "        85849,  88209,  90601,  93025,  95481,  97969, 100489, 103041,\n",
       "       105625, 108241, 110889, 113569, 116281, 119025, 121801, 124609,\n",
       "       127449, 130321, 133225, 136161, 139129, 142129, 145161, 148225,\n",
       "       151321, 154449, 157609, 160801, 164025, 167281, 170569, 173889,\n",
       "       177241, 180625, 184041, 187489, 190969, 194481, 198025, 201601,\n",
       "       205209, 208849, 212521, 216225, 219961, 223729, 227529, 231361,\n",
       "       235225, 239121, 243049, 247009, 251001, 255025, 259081, 263169,\n",
       "       267289, 271441, 275625, 279841, 284089, 288369, 292681, 297025,\n",
       "       301401, 305809, 310249, 314721, 319225, 323761, 328329, 332929,\n",
       "       337561, 342225, 346921, 351649, 356409, 361201, 366025, 370881,\n",
       "       375769, 380689, 385641, 390625, 395641, 400689, 405769, 410881,\n",
       "       416025, 421201, 426409, 431649, 436921, 442225, 447561, 452929,\n",
       "       458329, 463761, 469225, 474721, 480249, 485809, 491401, 497025,\n",
       "       502681, 508369, 514089, 519841, 525625, 531441, 537289, 543169,\n",
       "       549081, 555025, 561001, 567009, 573049, 579121, 585225, 591361,\n",
       "       597529, 603729, 609961, 616225, 622521, 628849, 635209, 641601,\n",
       "       648025, 654481, 660969, 667489, 674041, 680625, 687241, 693889,\n",
       "       700569, 707281, 714025, 720801, 727609, 734449, 741321, 748225,\n",
       "       755161, 762129, 769129, 776161, 783225, 790321, 797449, 804609,\n",
       "       811801, 819025, 826281, 833569, 840889, 848241, 855625, 863041,\n",
       "       870489, 877969, 885481, 893025, 900601, 908209, 915849, 923521,\n",
       "       931225, 938961, 946729, 954529, 962361, 970225, 978121, 986049,\n",
       "       994009])"
      ]
     },
     "execution_count": 78,
     "metadata": {},
     "output_type": "execute_result"
    }
   ],
   "source": []
  }
 ],
 "metadata": {
  "kernelspec": {
   "display_name": "Python 3",
   "language": "python",
   "name": "python3"
  },
  "language_info": {
   "codemirror_mode": {
    "name": "ipython",
    "version": 3
   },
   "file_extension": ".py",
   "mimetype": "text/x-python",
   "name": "python",
   "nbconvert_exporter": "python",
   "pygments_lexer": "ipython3",
   "version": "3.8.3"
  }
 },
 "nbformat": 4,
 "nbformat_minor": 4
}
