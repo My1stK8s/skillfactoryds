{
 "cells": [
  {
   "cell_type": "code",
   "execution_count": 2,
   "metadata": {},
   "outputs": [],
   "source": [
    "def game_core_v3(number):\n",
    "    digit_list = [count for count in range (1, 101)] #загадываться число будет втнури списк от 1 до 100\n",
    "    start_list = digit_list[0]                       #задаем начало списка, одновременно это самый маленький элемент списка\n",
    "    end_list = len(digit_list)                       #задаем конец списка, одновременно это цифра самого большого элемента списка\n",
    "    count = 0                                        #вводим и обозначаем элемент для опредления колличества попыток\n",
    "    while start_list <= end_list:                    #наше условия, которое будет выполняться до тех пор, пока два элемента не станут равны\n",
    "        count+=1                                     #каждую попытку суммируем для выведения общего кол-ва попыток\n",
    "        mid = (start_list+end_list)//2               # чтобы сократить списко выборки, важно найти средний элемент списка\n",
    "        if mid > number:                             #если загаданное число меньше определнного выше среднего значения списка,то\n",
    "            end_list = mid-1                         #,то определяем новый последний элемент списка как среднее значение опредленное до этого и -1 элмент от него\n",
    "        elif mid < number:                           # если же загаданное число больше опредленной середины списка, то\n",
    "            start_list = mid+1                       #,то серединой станет цифра смещенная вправо на + 1 от текущей цифры опредленонй как середина списка\n",
    "        else:                                        # как только ни одно из условий выше не будет выполнено, значит мы решили задачу и нашли нужное нам число\n",
    "            break                                    # цикл необходимо закончить\n",
    "    return(count)                                    #возвращаем цифру опредлеющую кол-во попыток для поиска загаданного числа\n"
   ]
  },
  {
   "cell_type": "code",
   "execution_count": 8,
   "metadata": {},
   "outputs": [],
   "source": [
    "import numpy as np\n",
    "predict = np.random.randint(1,3)\n",
    "\n",
    "# # digit_list = [count for count in range (1, 101)]\n",
    "# # digit_list\n",
    "# def game_core_v2(number):\n",
    "#     '''Отказываемся от случайного начального значения, начинаем с середины диапазона \n",
    "#     predict = 50. В среднем, никакой разницы по количеству шагов, нужных для отгадывания числа нет'''\n",
    "#     count = 1\n",
    "#     imax = 100\n",
    "#     imin = 1\n",
    "#     predict = 50 #np.random.randint(1,101)\n",
    "#     while number != predict:\n",
    "#         count+=1\n",
    "#         if number > predict: #загаданное число больше прогноза\n",
    "#             imin = predict\n",
    "#             predict = int((imax + predict)/2)   #делим диапазон на 2\n",
    "#             if predict == imin and (predict+1) <= imax:\n",
    "#                 predict+=1\n",
    "#             elif predict == imin and (predict+1) > imax:\n",
    "#                 return(-1) #ошибка алгоритма\n",
    "#         elif number < predict:  #загаданное число меньше прогноза\n",
    "#             imax = predict\n",
    "#             predict = int((predict + imin)/2) #делим диапазон на 2\n",
    "#             if predict == imax and (predict-1) >= imin:\n",
    "#                 predict-=1\n",
    "#             elif predict == imin and (predict-1) < imax:\n",
    "#                 return(-1) #ошибка алгоритма\n",
    "#     return(count) # выход из цикла, если угадали"
   ]
  },
  {
   "cell_type": "code",
   "execution_count": 14,
   "metadata": {},
   "outputs": [],
   "source": [
    "import numpy as np\n",
    "import os \n",
    "predict = np.random.randint(1,3)\n",
    "if predict == predict:\n",
    "    open('C:/Users/J/Desktop/22/arh/1.jpg')\n"
   ]
  },
  {
   "cell_type": "code",
   "execution_count": null,
   "metadata": {},
   "outputs": [],
   "source": [
    "results=np.zeros((3,5))\n",
    "dircount=0\n",
    "for root, dirs, files in os.walk(ROOTFOLDER):\n",
    "    filecount = 0\n",
    "    for f in files:\n",
    "        #  absolute path is os.path.join(root,f)\n",
    "        result[dircount,filecount]\n",
    "        filecount += 1\n",
    "    dircount += 1       \n",
    "результат печати\n",
    "\n",
    "Если вам нужен полный список файлов в папке рекурсивно\n",
    "\n",
    "files_list = [os.path.join(folder,i) for folder, subdirs, files in os.walk(ROOTFOLDER) for i in files]"
   ]
  }
 ],
 "metadata": {
  "kernelspec": {
   "display_name": "Python 3",
   "language": "python",
   "name": "python3"
  },
  "language_info": {
   "codemirror_mode": {
    "name": "ipython",
    "version": 3
   },
   "file_extension": ".py",
   "mimetype": "text/x-python",
   "name": "python",
   "nbconvert_exporter": "python",
   "pygments_lexer": "ipython3",
   "version": "3.8.3"
  }
 },
 "nbformat": 4,
 "nbformat_minor": 4
}
