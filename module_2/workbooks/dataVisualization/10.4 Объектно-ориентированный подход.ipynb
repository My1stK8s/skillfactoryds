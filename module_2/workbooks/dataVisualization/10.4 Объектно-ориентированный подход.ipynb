{
 "cells": [
  {
   "cell_type": "markdown",
   "metadata": {},
   "source": [
    "Объектно-ориентированный подход\n",
    "Matplotlib — это библиотека Python, обладающая широкими возможностями для создания и отображения графической информации. В этом блоке мы рассмотрим основные приёмы работы с этой библиотекой на примере оформления графиков для датасета tips.csv. \n",
    "\n",
    "Импортируйте необходимые библиотеки, включая модуль pyplot библиотеки Matplotlib, который содержит требуемые функции и методы. Для корректного отображения графиков в ноутбуке используйте команду %matplotlib inline. Загрузите файл tips.csv."
   ]
  },
  {
   "cell_type": "code",
   "execution_count": null,
   "metadata": {},
   "outputs": [],
   "source": [
    "import pandas as pd\n",
    "import matplotlib.pyplot as plt\n",
    "%matplotlib inline\n",
    "\n",
    "df = pd.read_csv('tips.csv')"
   ]
  },
  {
   "cell_type": "markdown",
   "metadata": {},
   "source": [
    "Существует несколько подходов к созданию графиков в Matplotlib. Один из них — объектно-ориентированный подход, он наиболее прозрачный и мощный по функционалу. Процесс работы над графиком начинается с создания объекта, содержащего необходимую информацию и настройки. К этому объекту мы будем добавлять координатную плоскость и другие графические объекты.\n",
    "\n",
    "В первой строке кода создаётся объект с именем fig, к которому применяются все настройки. Во второй строке создаётся координатная плоскость (axes), которая начинается в левом нижнем углу без отступов (координаты 0, 0) и занимает отведённое место в области (ширина и высота равны 1):"
   ]
  },
  {
   "cell_type": "code",
   "execution_count": null,
   "metadata": {},
   "outputs": [],
   "source": [
    "fig = plt.figure()\n",
    "axes = fig.add_axes([0, 0, 1, 1])\n",
    "\n"
   ]
  },
  {
   "cell_type": "markdown",
   "metadata": {},
   "source": [
    "Теперь мы можем разместить в созданной нами координатной плоскости любую графическую информацию. Например, для построения гистограммы распределения признака «Общая сумма счёта» нам следует применить к axes метод hist:"
   ]
  },
  {
   "cell_type": "code",
   "execution_count": null,
   "metadata": {},
   "outputs": [],
   "source": [
    "fig = plt.figure()\n",
    "axes = fig.add_axes([0, 0, 1, 1])\n",
    "axes.hist(df['total_bill'])"
   ]
  },
  {
   "cell_type": "markdown",
   "metadata": {},
   "source": [
    "У метода hist можно менять цвет диаграммы (color) и увеличивать количество столбцов для демонстрации распределения (bins).К графику можно добавить заголовки:\n",
    "\n",
    "axes.set_title — заголовок диаграммы;\n",
    "axes.set_ylabel — заголовок для оси ординат;\n",
    "axes.set_xlabel — заголовок для оси абсцисс.\n",
    "Посмотрите полный список методов к объекту axes в официальной документации."
   ]
  },
  {
   "cell_type": "code",
   "execution_count": null,
   "metadata": {},
   "outputs": [],
   "source": [
    "fig = plt.figure()\n",
    "axes = fig.add_axes([0, 0, 1, 1])\n",
    "axes.hist(df['total_bill'], bins = 20, color = 'green')\n",
    "axes.set_title('Общая сумма счета')\n",
    "axes.set_ylabel('Количество заказов')\n",
    "axes.set_xlabel('Сумма заказа, USD')"
   ]
  },
  {
   "cell_type": "markdown",
   "metadata": {},
   "source": [
    "Для размещения на координатной плоскости графиков других видов необходимо вызывать соответствующие методы применительно к объекту axes. Например, для создания scatter plot, отображающего связь между суммой счёта и размером чаевых, воспользуемся методом scatter:"
   ]
  },
  {
   "cell_type": "code",
   "execution_count": null,
   "metadata": {},
   "outputs": [],
   "source": [
    "fig = plt.figure()\n",
    "axes = fig.add_axes([0, 0, 1, 1])\n",
    "axes.scatter(x = df['total_bill'], y = df['tip'], marker=11 )\n",
    "axes.set_title('Общая сумма счёта Vs Cумма чаевых')\n",
    "axes.set_xlabel('Сумма чека')\n",
    "axes.set_ylabel('Размер чаевых')"
   ]
  },
  {
   "cell_type": "markdown",
   "metadata": {},
   "source": [
    "Задание 1\n",
    "Отметьте все варианты кода, в которых создаётся прямоугольная координатная плоскость с высотой больше ширины:"
   ]
  },
  {
   "cell_type": "markdown",
   "metadata": {},
   "source": [
    "axes = fig.add_axes([0.2, 0.2, 0.5, 0.9])верно\n",
    "<!-- axes = fig.add_axes([0, 0, 0.9, 0.5]) -->\n",
    "axes = fig.add_axes([0.1,0.1,1,2])верно\n",
    "<!-- axes = fig.add_axes([2,0,0,2]) -->"
   ]
  },
  {
   "cell_type": "code",
   "execution_count": null,
   "metadata": {},
   "outputs": [],
   "source": [
    "fig = plt.figure()\n",
    "axes = fig.add_axes([0.2, 0.2, 0.5, 0.9])"
   ]
  },
  {
   "cell_type": "code",
   "execution_count": null,
   "metadata": {},
   "outputs": [],
   "source": [
    "fig = plt.figure()\n",
    "axes = fig.add_axes([0.1,0.1,1,2])"
   ]
  },
  {
   "cell_type": "markdown",
   "metadata": {},
   "source": [
    "Задание 2 По какому параметру различаются два графика, представленные выше?\n",
    "\n",
    "<!-- источник данных в датафрейме df -->\n",
    "<!-- xlim -->\n",
    "bins верно"
   ]
  },
  {
   "cell_type": "code",
   "execution_count": null,
   "metadata": {},
   "outputs": [],
   "source": []
  },
  {
   "cell_type": "code",
   "execution_count": null,
   "metadata": {},
   "outputs": [],
   "source": []
  }
 ],
 "metadata": {
  "kernelspec": {
   "display_name": "Python 3",
   "language": "python",
   "name": "python3"
  },
  "language_info": {
   "codemirror_mode": {
    "name": "ipython",
    "version": 3
   },
   "file_extension": ".py",
   "mimetype": "text/x-python",
   "name": "python",
   "nbconvert_exporter": "python",
   "pygments_lexer": "ipython3",
   "version": "3.8.3"
  }
 },
 "nbformat": 4,
 "nbformat_minor": 4
}
